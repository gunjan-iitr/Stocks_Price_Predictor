{
 "cells": [
  {
   "cell_type": "code",
   "execution_count": 1,
   "metadata": {
    "colab": {},
    "colab_type": "code",
    "collapsed": true,
    "id": "cIJURQJ-Dwyp"
   },
   "outputs": [],
   "source": [
    "import os\n",
    "from pydrive.auth import GoogleAuth\n",
    "from pydrive.drive import GoogleDrive\n",
    "from google.colab import auth\n",
    "from oauth2client.client import GoogleCredentials"
   ]
  },
  {
   "cell_type": "code",
   "execution_count": 2,
   "metadata": {
    "colab": {},
    "colab_type": "code",
    "collapsed": true,
    "id": "aM2qMYHfD2V2"
   },
   "outputs": [],
   "source": [
    "auth.authenticate_user()\n",
    "gauth = GoogleAuth()\n",
    "gauth.credentials = GoogleCredentials.get_application_default()\n",
    "drive = GoogleDrive(gauth)"
   ]
  },
  {
   "cell_type": "code",
   "execution_count": 3,
   "metadata": {
    "colab": {},
    "colab_type": "code",
    "collapsed": true,
    "id": "hDmO8MmUD2R3"
   },
   "outputs": [],
   "source": [
    "stocks = drive.CreateFile({'id': '-------'})\n",
    "stocks.GetContentFile('adjusted_stock_price.csv')"
   ]
  },
  {
   "cell_type": "code",
   "execution_count": null,
   "metadata": {
    "colab": {},
    "colab_type": "code",
    "collapsed": true,
    "id": "xz_C4GTvUGPU"
   },
   "outputs": [],
   "source": [
    "!wget https://launchpad.net/~mario-mariomedina/+archive/ubuntu/talib/+files/libta-lib0_0.4.0-oneiric1_amd64.deb -qO libta.deb\n",
    "!wget https://launchpad.net/~mario-mariomedina/+archive/ubuntu/talib/+files/ta-lib0-dev_0.4.0-oneiric1_amd64.deb -qO ta.deb\n",
    "!dpkg -i libta.deb ta.deb\n",
    "!pip install ta-lib"
   ]
  },
  {
   "cell_type": "markdown",
   "metadata": {},
   "source": [
    "# We'll just be using the stocks data of Apple Inc. out of all the given stocks data of 501 firms."
   ]
  },
  {
   "cell_type": "code",
   "execution_count": 1,
   "metadata": {
    "colab": {},
    "colab_type": "code",
    "collapsed": true,
    "id": "PmTSloKxD2Pb"
   },
   "outputs": [],
   "source": [
    "import pandas as pd\n",
    "import numpy as np \n",
    "import matplotlib.pyplot as plt\n",
    "#import talib as ta\n",
    "#from sklearn.utils import shuffle"
   ]
  },
  {
   "cell_type": "code",
   "execution_count": 2,
   "metadata": {
    "colab": {},
    "colab_type": "code",
    "collapsed": false,
    "id": "z5wn6gWcFIlI"
   },
   "outputs": [],
   "source": [
    "stocks = pd.read_csv('prices-split-adjusted.csv')"
   ]
  },
  {
   "cell_type": "code",
   "execution_count": 3,
   "metadata": {
    "colab": {
     "base_uri": "https://localhost:8080/",
     "height": 204
    },
    "colab_type": "code",
    "collapsed": false,
    "id": "nibUoQaRD8iA",
    "outputId": "b2185e7c-2da7-4018-d427-86b2223da47c"
   },
   "outputs": [
    {
     "data": {
      "text/html": [
       "<div>\n",
       "<style scoped>\n",
       "    .dataframe tbody tr th:only-of-type {\n",
       "        vertical-align: middle;\n",
       "    }\n",
       "\n",
       "    .dataframe tbody tr th {\n",
       "        vertical-align: top;\n",
       "    }\n",
       "\n",
       "    .dataframe thead th {\n",
       "        text-align: right;\n",
       "    }\n",
       "</style>\n",
       "<table border=\"1\" class=\"dataframe\">\n",
       "  <thead>\n",
       "    <tr style=\"text-align: right;\">\n",
       "      <th></th>\n",
       "      <th>date</th>\n",
       "      <th>symbol</th>\n",
       "      <th>open</th>\n",
       "      <th>close</th>\n",
       "      <th>low</th>\n",
       "      <th>high</th>\n",
       "      <th>volume</th>\n",
       "    </tr>\n",
       "  </thead>\n",
       "  <tbody>\n",
       "    <tr>\n",
       "      <th>0</th>\n",
       "      <td>2016-01-05</td>\n",
       "      <td>WLTW</td>\n",
       "      <td>123.430000</td>\n",
       "      <td>125.839996</td>\n",
       "      <td>122.309998</td>\n",
       "      <td>126.250000</td>\n",
       "      <td>2163600.0</td>\n",
       "    </tr>\n",
       "    <tr>\n",
       "      <th>1</th>\n",
       "      <td>2016-01-06</td>\n",
       "      <td>WLTW</td>\n",
       "      <td>125.239998</td>\n",
       "      <td>119.980003</td>\n",
       "      <td>119.940002</td>\n",
       "      <td>125.540001</td>\n",
       "      <td>2386400.0</td>\n",
       "    </tr>\n",
       "    <tr>\n",
       "      <th>2</th>\n",
       "      <td>2016-01-07</td>\n",
       "      <td>WLTW</td>\n",
       "      <td>116.379997</td>\n",
       "      <td>114.949997</td>\n",
       "      <td>114.930000</td>\n",
       "      <td>119.739998</td>\n",
       "      <td>2489500.0</td>\n",
       "    </tr>\n",
       "    <tr>\n",
       "      <th>3</th>\n",
       "      <td>2016-01-08</td>\n",
       "      <td>WLTW</td>\n",
       "      <td>115.480003</td>\n",
       "      <td>116.620003</td>\n",
       "      <td>113.500000</td>\n",
       "      <td>117.440002</td>\n",
       "      <td>2006300.0</td>\n",
       "    </tr>\n",
       "    <tr>\n",
       "      <th>4</th>\n",
       "      <td>2016-01-11</td>\n",
       "      <td>WLTW</td>\n",
       "      <td>117.010002</td>\n",
       "      <td>114.970001</td>\n",
       "      <td>114.089996</td>\n",
       "      <td>117.330002</td>\n",
       "      <td>1408600.0</td>\n",
       "    </tr>\n",
       "  </tbody>\n",
       "</table>\n",
       "</div>"
      ],
      "text/plain": [
       "         date symbol        open       close         low        high  \\\n",
       "0  2016-01-05   WLTW  123.430000  125.839996  122.309998  126.250000   \n",
       "1  2016-01-06   WLTW  125.239998  119.980003  119.940002  125.540001   \n",
       "2  2016-01-07   WLTW  116.379997  114.949997  114.930000  119.739998   \n",
       "3  2016-01-08   WLTW  115.480003  116.620003  113.500000  117.440002   \n",
       "4  2016-01-11   WLTW  117.010002  114.970001  114.089996  117.330002   \n",
       "\n",
       "      volume  \n",
       "0  2163600.0  \n",
       "1  2386400.0  \n",
       "2  2489500.0  \n",
       "3  2006300.0  \n",
       "4  1408600.0  "
      ]
     },
     "execution_count": 3,
     "metadata": {},
     "output_type": "execute_result"
    }
   ],
   "source": [
    "stocks.head()"
   ]
  },
  {
   "cell_type": "code",
   "execution_count": 4,
   "metadata": {
    "colab": {},
    "colab_type": "code",
    "collapsed": true,
    "id": "31e67227FsQE"
   },
   "outputs": [],
   "source": [
    "# we'll be predicting apple stocks for the next day\n",
    "apple_stock = stocks.loc[stocks['symbol'] == 'AAPL']"
   ]
  },
  {
   "cell_type": "code",
   "execution_count": 5,
   "metadata": {
    "colab": {},
    "colab_type": "code",
    "collapsed": true,
    "id": "7XT2_orQGQvi"
   },
   "outputs": [
    {
     "name": "stderr",
     "output_type": "stream",
     "text": [
      "/home/gunjan/anaconda3/lib/python3.5/site-packages/ipykernel/__main__.py:2: SettingWithCopyWarning: \n",
      "A value is trying to be set on a copy of a slice from a DataFrame.\n",
      "Try using .loc[row_indexer,col_indexer] = value instead\n",
      "\n",
      "See the caveats in the documentation: http://pandas.pydata.org/pandas-docs/stable/indexing.html#indexing-view-versus-copy\n",
      "  from ipykernel import kernelapp as app\n"
     ]
    },
    {
     "data": {
      "text/html": [
       "<div>\n",
       "<style scoped>\n",
       "    .dataframe tbody tr th:only-of-type {\n",
       "        vertical-align: middle;\n",
       "    }\n",
       "\n",
       "    .dataframe tbody tr th {\n",
       "        vertical-align: top;\n",
       "    }\n",
       "\n",
       "    .dataframe thead th {\n",
       "        text-align: right;\n",
       "    }\n",
       "</style>\n",
       "<table border=\"1\" class=\"dataframe\">\n",
       "  <thead>\n",
       "    <tr style=\"text-align: right;\">\n",
       "      <th></th>\n",
       "      <th>symbol</th>\n",
       "      <th>open</th>\n",
       "      <th>close</th>\n",
       "      <th>low</th>\n",
       "      <th>high</th>\n",
       "      <th>volume</th>\n",
       "    </tr>\n",
       "    <tr>\n",
       "      <th>date</th>\n",
       "      <th></th>\n",
       "      <th></th>\n",
       "      <th></th>\n",
       "      <th></th>\n",
       "      <th></th>\n",
       "      <th></th>\n",
       "    </tr>\n",
       "  </thead>\n",
       "  <tbody>\n",
       "    <tr>\n",
       "      <th>2010-01-04</th>\n",
       "      <td>AAPL</td>\n",
       "      <td>30.490000</td>\n",
       "      <td>30.572857</td>\n",
       "      <td>30.340000</td>\n",
       "      <td>30.642857</td>\n",
       "      <td>123432400.0</td>\n",
       "    </tr>\n",
       "    <tr>\n",
       "      <th>2010-01-05</th>\n",
       "      <td>AAPL</td>\n",
       "      <td>30.657143</td>\n",
       "      <td>30.625713</td>\n",
       "      <td>30.464285</td>\n",
       "      <td>30.798571</td>\n",
       "      <td>150476200.0</td>\n",
       "    </tr>\n",
       "    <tr>\n",
       "      <th>2010-01-06</th>\n",
       "      <td>AAPL</td>\n",
       "      <td>30.625713</td>\n",
       "      <td>30.138571</td>\n",
       "      <td>30.107143</td>\n",
       "      <td>30.747143</td>\n",
       "      <td>138040000.0</td>\n",
       "    </tr>\n",
       "    <tr>\n",
       "      <th>2010-01-07</th>\n",
       "      <td>AAPL</td>\n",
       "      <td>30.250000</td>\n",
       "      <td>30.082857</td>\n",
       "      <td>29.864286</td>\n",
       "      <td>30.285715</td>\n",
       "      <td>119282800.0</td>\n",
       "    </tr>\n",
       "    <tr>\n",
       "      <th>2010-01-08</th>\n",
       "      <td>AAPL</td>\n",
       "      <td>30.042856</td>\n",
       "      <td>30.282858</td>\n",
       "      <td>29.865715</td>\n",
       "      <td>30.285715</td>\n",
       "      <td>111902700.0</td>\n",
       "    </tr>\n",
       "    <tr>\n",
       "      <th>2010-01-11</th>\n",
       "      <td>AAPL</td>\n",
       "      <td>30.400000</td>\n",
       "      <td>30.015715</td>\n",
       "      <td>29.778572</td>\n",
       "      <td>30.428572</td>\n",
       "      <td>115557400.0</td>\n",
       "    </tr>\n",
       "    <tr>\n",
       "      <th>2010-01-12</th>\n",
       "      <td>AAPL</td>\n",
       "      <td>29.884285</td>\n",
       "      <td>29.674286</td>\n",
       "      <td>29.488571</td>\n",
       "      <td>29.967142</td>\n",
       "      <td>148614900.0</td>\n",
       "    </tr>\n",
       "    <tr>\n",
       "      <th>2010-01-13</th>\n",
       "      <td>AAPL</td>\n",
       "      <td>29.695715</td>\n",
       "      <td>30.092857</td>\n",
       "      <td>29.157143</td>\n",
       "      <td>30.132856</td>\n",
       "      <td>151473000.0</td>\n",
       "    </tr>\n",
       "    <tr>\n",
       "      <th>2010-01-14</th>\n",
       "      <td>AAPL</td>\n",
       "      <td>30.015715</td>\n",
       "      <td>29.918571</td>\n",
       "      <td>29.860001</td>\n",
       "      <td>30.065714</td>\n",
       "      <td>108223500.0</td>\n",
       "    </tr>\n",
       "    <tr>\n",
       "      <th>2010-01-15</th>\n",
       "      <td>AAPL</td>\n",
       "      <td>30.132856</td>\n",
       "      <td>29.418571</td>\n",
       "      <td>29.410000</td>\n",
       "      <td>30.228571</td>\n",
       "      <td>148516900.0</td>\n",
       "    </tr>\n",
       "    <tr>\n",
       "      <th>2010-01-19</th>\n",
       "      <td>AAPL</td>\n",
       "      <td>29.761429</td>\n",
       "      <td>30.719999</td>\n",
       "      <td>29.605715</td>\n",
       "      <td>30.741428</td>\n",
       "      <td>182501900.0</td>\n",
       "    </tr>\n",
       "    <tr>\n",
       "      <th>2010-01-20</th>\n",
       "      <td>AAPL</td>\n",
       "      <td>30.701429</td>\n",
       "      <td>30.247143</td>\n",
       "      <td>29.928572</td>\n",
       "      <td>30.792856</td>\n",
       "      <td>153038200.0</td>\n",
       "    </tr>\n",
       "    <tr>\n",
       "      <th>2010-01-21</th>\n",
       "      <td>AAPL</td>\n",
       "      <td>30.297142</td>\n",
       "      <td>29.724285</td>\n",
       "      <td>29.601429</td>\n",
       "      <td>30.472857</td>\n",
       "      <td>152038600.0</td>\n",
       "    </tr>\n",
       "    <tr>\n",
       "      <th>2010-01-22</th>\n",
       "      <td>AAPL</td>\n",
       "      <td>29.540001</td>\n",
       "      <td>28.250000</td>\n",
       "      <td>28.165714</td>\n",
       "      <td>29.642857</td>\n",
       "      <td>220441900.0</td>\n",
       "    </tr>\n",
       "    <tr>\n",
       "      <th>2010-01-25</th>\n",
       "      <td>AAPL</td>\n",
       "      <td>28.930000</td>\n",
       "      <td>29.010000</td>\n",
       "      <td>28.598572</td>\n",
       "      <td>29.242857</td>\n",
       "      <td>266424900.0</td>\n",
       "    </tr>\n",
       "    <tr>\n",
       "      <th>2010-01-26</th>\n",
       "      <td>AAPL</td>\n",
       "      <td>29.421429</td>\n",
       "      <td>29.420000</td>\n",
       "      <td>28.940001</td>\n",
       "      <td>30.530001</td>\n",
       "      <td>466777500.0</td>\n",
       "    </tr>\n",
       "    <tr>\n",
       "      <th>2010-01-27</th>\n",
       "      <td>AAPL</td>\n",
       "      <td>29.549999</td>\n",
       "      <td>29.697144</td>\n",
       "      <td>28.504286</td>\n",
       "      <td>30.082857</td>\n",
       "      <td>430642100.0</td>\n",
       "    </tr>\n",
       "    <tr>\n",
       "      <th>2010-01-28</th>\n",
       "      <td>AAPL</td>\n",
       "      <td>29.275715</td>\n",
       "      <td>28.469999</td>\n",
       "      <td>28.385714</td>\n",
       "      <td>29.357143</td>\n",
       "      <td>293375600.0</td>\n",
       "    </tr>\n",
       "    <tr>\n",
       "      <th>2010-01-29</th>\n",
       "      <td>AAPL</td>\n",
       "      <td>28.725714</td>\n",
       "      <td>27.437143</td>\n",
       "      <td>27.178572</td>\n",
       "      <td>28.885714</td>\n",
       "      <td>311488100.0</td>\n",
       "    </tr>\n",
       "    <tr>\n",
       "      <th>2010-02-01</th>\n",
       "      <td>AAPL</td>\n",
       "      <td>27.481428</td>\n",
       "      <td>27.818571</td>\n",
       "      <td>27.328571</td>\n",
       "      <td>28.000000</td>\n",
       "      <td>187469100.0</td>\n",
       "    </tr>\n",
       "    <tr>\n",
       "      <th>2010-02-02</th>\n",
       "      <td>AAPL</td>\n",
       "      <td>27.987143</td>\n",
       "      <td>27.980000</td>\n",
       "      <td>27.625713</td>\n",
       "      <td>28.045713</td>\n",
       "      <td>174585600.0</td>\n",
       "    </tr>\n",
       "    <tr>\n",
       "      <th>2010-02-03</th>\n",
       "      <td>AAPL</td>\n",
       "      <td>27.881428</td>\n",
       "      <td>28.461428</td>\n",
       "      <td>27.774286</td>\n",
       "      <td>28.600000</td>\n",
       "      <td>153832000.0</td>\n",
       "    </tr>\n",
       "    <tr>\n",
       "      <th>2010-02-04</th>\n",
       "      <td>AAPL</td>\n",
       "      <td>28.104286</td>\n",
       "      <td>27.435715</td>\n",
       "      <td>27.367144</td>\n",
       "      <td>28.338572</td>\n",
       "      <td>189413000.0</td>\n",
       "    </tr>\n",
       "    <tr>\n",
       "      <th>2010-02-05</th>\n",
       "      <td>AAPL</td>\n",
       "      <td>27.518572</td>\n",
       "      <td>27.922857</td>\n",
       "      <td>27.264286</td>\n",
       "      <td>28.000000</td>\n",
       "      <td>212576700.0</td>\n",
       "    </tr>\n",
       "    <tr>\n",
       "      <th>2010-02-08</th>\n",
       "      <td>AAPL</td>\n",
       "      <td>27.955715</td>\n",
       "      <td>27.731428</td>\n",
       "      <td>27.714285</td>\n",
       "      <td>28.268572</td>\n",
       "      <td>119567700.0</td>\n",
       "    </tr>\n",
       "    <tr>\n",
       "      <th>2010-02-09</th>\n",
       "      <td>AAPL</td>\n",
       "      <td>28.059999</td>\n",
       "      <td>28.027143</td>\n",
       "      <td>27.821428</td>\n",
       "      <td>28.214285</td>\n",
       "      <td>158221700.0</td>\n",
       "    </tr>\n",
       "    <tr>\n",
       "      <th>2010-02-10</th>\n",
       "      <td>AAPL</td>\n",
       "      <td>27.984285</td>\n",
       "      <td>27.874287</td>\n",
       "      <td>27.751429</td>\n",
       "      <td>28.085714</td>\n",
       "      <td>92590400.0</td>\n",
       "    </tr>\n",
       "    <tr>\n",
       "      <th>2010-02-11</th>\n",
       "      <td>AAPL</td>\n",
       "      <td>27.840000</td>\n",
       "      <td>28.381428</td>\n",
       "      <td>27.722857</td>\n",
       "      <td>28.535715</td>\n",
       "      <td>137586400.0</td>\n",
       "    </tr>\n",
       "    <tr>\n",
       "      <th>2010-02-12</th>\n",
       "      <td>AAPL</td>\n",
       "      <td>28.301428</td>\n",
       "      <td>28.625713</td>\n",
       "      <td>27.928572</td>\n",
       "      <td>28.805714</td>\n",
       "      <td>163867200.0</td>\n",
       "    </tr>\n",
       "    <tr>\n",
       "      <th>2010-02-16</th>\n",
       "      <td>AAPL</td>\n",
       "      <td>28.848572</td>\n",
       "      <td>29.057142</td>\n",
       "      <td>28.788572</td>\n",
       "      <td>29.098572</td>\n",
       "      <td>135934400.0</td>\n",
       "    </tr>\n",
       "    <tr>\n",
       "      <th>...</th>\n",
       "      <td>...</td>\n",
       "      <td>...</td>\n",
       "      <td>...</td>\n",
       "      <td>...</td>\n",
       "      <td>...</td>\n",
       "      <td>...</td>\n",
       "    </tr>\n",
       "    <tr>\n",
       "      <th>2016-11-17</th>\n",
       "      <td>AAPL</td>\n",
       "      <td>109.809998</td>\n",
       "      <td>109.949997</td>\n",
       "      <td>108.830002</td>\n",
       "      <td>110.349998</td>\n",
       "      <td>27632000.0</td>\n",
       "    </tr>\n",
       "    <tr>\n",
       "      <th>2016-11-18</th>\n",
       "      <td>AAPL</td>\n",
       "      <td>109.720001</td>\n",
       "      <td>110.059998</td>\n",
       "      <td>109.660004</td>\n",
       "      <td>110.540001</td>\n",
       "      <td>28428900.0</td>\n",
       "    </tr>\n",
       "    <tr>\n",
       "      <th>2016-11-21</th>\n",
       "      <td>AAPL</td>\n",
       "      <td>110.120003</td>\n",
       "      <td>111.730003</td>\n",
       "      <td>110.010002</td>\n",
       "      <td>111.989998</td>\n",
       "      <td>29264600.0</td>\n",
       "    </tr>\n",
       "    <tr>\n",
       "      <th>2016-11-22</th>\n",
       "      <td>AAPL</td>\n",
       "      <td>111.949997</td>\n",
       "      <td>111.800003</td>\n",
       "      <td>111.400002</td>\n",
       "      <td>112.419998</td>\n",
       "      <td>25965500.0</td>\n",
       "    </tr>\n",
       "    <tr>\n",
       "      <th>2016-11-23</th>\n",
       "      <td>AAPL</td>\n",
       "      <td>111.360001</td>\n",
       "      <td>111.230003</td>\n",
       "      <td>110.330002</td>\n",
       "      <td>111.510002</td>\n",
       "      <td>27426400.0</td>\n",
       "    </tr>\n",
       "    <tr>\n",
       "      <th>2016-11-25</th>\n",
       "      <td>AAPL</td>\n",
       "      <td>111.129997</td>\n",
       "      <td>111.790001</td>\n",
       "      <td>110.949997</td>\n",
       "      <td>111.870003</td>\n",
       "      <td>11475900.0</td>\n",
       "    </tr>\n",
       "    <tr>\n",
       "      <th>2016-11-28</th>\n",
       "      <td>AAPL</td>\n",
       "      <td>111.430000</td>\n",
       "      <td>111.570000</td>\n",
       "      <td>111.389999</td>\n",
       "      <td>112.470001</td>\n",
       "      <td>27194000.0</td>\n",
       "    </tr>\n",
       "    <tr>\n",
       "      <th>2016-11-29</th>\n",
       "      <td>AAPL</td>\n",
       "      <td>110.779999</td>\n",
       "      <td>111.459999</td>\n",
       "      <td>110.070000</td>\n",
       "      <td>112.029999</td>\n",
       "      <td>28528800.0</td>\n",
       "    </tr>\n",
       "    <tr>\n",
       "      <th>2016-11-30</th>\n",
       "      <td>AAPL</td>\n",
       "      <td>111.599998</td>\n",
       "      <td>110.519997</td>\n",
       "      <td>110.269997</td>\n",
       "      <td>112.199997</td>\n",
       "      <td>36162300.0</td>\n",
       "    </tr>\n",
       "    <tr>\n",
       "      <th>2016-12-01</th>\n",
       "      <td>AAPL</td>\n",
       "      <td>110.370003</td>\n",
       "      <td>109.489998</td>\n",
       "      <td>109.029999</td>\n",
       "      <td>110.940002</td>\n",
       "      <td>37086900.0</td>\n",
       "    </tr>\n",
       "    <tr>\n",
       "      <th>2016-12-02</th>\n",
       "      <td>AAPL</td>\n",
       "      <td>109.169998</td>\n",
       "      <td>109.900002</td>\n",
       "      <td>108.849998</td>\n",
       "      <td>110.089996</td>\n",
       "      <td>26528000.0</td>\n",
       "    </tr>\n",
       "    <tr>\n",
       "      <th>2016-12-05</th>\n",
       "      <td>AAPL</td>\n",
       "      <td>110.000000</td>\n",
       "      <td>109.110001</td>\n",
       "      <td>108.250000</td>\n",
       "      <td>110.029999</td>\n",
       "      <td>34324500.0</td>\n",
       "    </tr>\n",
       "    <tr>\n",
       "      <th>2016-12-06</th>\n",
       "      <td>AAPL</td>\n",
       "      <td>109.500000</td>\n",
       "      <td>109.949997</td>\n",
       "      <td>109.190002</td>\n",
       "      <td>110.360001</td>\n",
       "      <td>26195500.0</td>\n",
       "    </tr>\n",
       "    <tr>\n",
       "      <th>2016-12-07</th>\n",
       "      <td>AAPL</td>\n",
       "      <td>109.260002</td>\n",
       "      <td>111.029999</td>\n",
       "      <td>109.160004</td>\n",
       "      <td>111.190002</td>\n",
       "      <td>29998700.0</td>\n",
       "    </tr>\n",
       "    <tr>\n",
       "      <th>2016-12-08</th>\n",
       "      <td>AAPL</td>\n",
       "      <td>110.860001</td>\n",
       "      <td>112.120003</td>\n",
       "      <td>110.599998</td>\n",
       "      <td>112.430000</td>\n",
       "      <td>27068300.0</td>\n",
       "    </tr>\n",
       "    <tr>\n",
       "      <th>2016-12-09</th>\n",
       "      <td>AAPL</td>\n",
       "      <td>112.309998</td>\n",
       "      <td>113.949997</td>\n",
       "      <td>112.309998</td>\n",
       "      <td>114.699997</td>\n",
       "      <td>34402600.0</td>\n",
       "    </tr>\n",
       "    <tr>\n",
       "      <th>2016-12-12</th>\n",
       "      <td>AAPL</td>\n",
       "      <td>113.290001</td>\n",
       "      <td>113.300003</td>\n",
       "      <td>112.489998</td>\n",
       "      <td>115.000000</td>\n",
       "      <td>26374400.0</td>\n",
       "    </tr>\n",
       "    <tr>\n",
       "      <th>2016-12-13</th>\n",
       "      <td>AAPL</td>\n",
       "      <td>113.839996</td>\n",
       "      <td>115.190002</td>\n",
       "      <td>113.750000</td>\n",
       "      <td>115.919998</td>\n",
       "      <td>43733800.0</td>\n",
       "    </tr>\n",
       "    <tr>\n",
       "      <th>2016-12-14</th>\n",
       "      <td>AAPL</td>\n",
       "      <td>115.040001</td>\n",
       "      <td>115.190002</td>\n",
       "      <td>114.980003</td>\n",
       "      <td>116.199997</td>\n",
       "      <td>34031800.0</td>\n",
       "    </tr>\n",
       "    <tr>\n",
       "      <th>2016-12-15</th>\n",
       "      <td>AAPL</td>\n",
       "      <td>115.379997</td>\n",
       "      <td>115.820000</td>\n",
       "      <td>115.230003</td>\n",
       "      <td>116.730003</td>\n",
       "      <td>46524500.0</td>\n",
       "    </tr>\n",
       "    <tr>\n",
       "      <th>2016-12-16</th>\n",
       "      <td>AAPL</td>\n",
       "      <td>116.470001</td>\n",
       "      <td>115.970001</td>\n",
       "      <td>115.650002</td>\n",
       "      <td>116.500000</td>\n",
       "      <td>44351100.0</td>\n",
       "    </tr>\n",
       "    <tr>\n",
       "      <th>2016-12-19</th>\n",
       "      <td>AAPL</td>\n",
       "      <td>115.800003</td>\n",
       "      <td>116.639999</td>\n",
       "      <td>115.750000</td>\n",
       "      <td>117.379997</td>\n",
       "      <td>27779400.0</td>\n",
       "    </tr>\n",
       "    <tr>\n",
       "      <th>2016-12-20</th>\n",
       "      <td>AAPL</td>\n",
       "      <td>116.739998</td>\n",
       "      <td>116.949997</td>\n",
       "      <td>116.680000</td>\n",
       "      <td>117.500000</td>\n",
       "      <td>21425000.0</td>\n",
       "    </tr>\n",
       "    <tr>\n",
       "      <th>2016-12-21</th>\n",
       "      <td>AAPL</td>\n",
       "      <td>116.800003</td>\n",
       "      <td>117.059998</td>\n",
       "      <td>116.779999</td>\n",
       "      <td>117.400002</td>\n",
       "      <td>23783200.0</td>\n",
       "    </tr>\n",
       "    <tr>\n",
       "      <th>2016-12-22</th>\n",
       "      <td>AAPL</td>\n",
       "      <td>116.349998</td>\n",
       "      <td>116.290001</td>\n",
       "      <td>115.639999</td>\n",
       "      <td>116.510002</td>\n",
       "      <td>26085900.0</td>\n",
       "    </tr>\n",
       "    <tr>\n",
       "      <th>2016-12-23</th>\n",
       "      <td>AAPL</td>\n",
       "      <td>115.589996</td>\n",
       "      <td>116.519997</td>\n",
       "      <td>115.589996</td>\n",
       "      <td>116.519997</td>\n",
       "      <td>14249500.0</td>\n",
       "    </tr>\n",
       "    <tr>\n",
       "      <th>2016-12-27</th>\n",
       "      <td>AAPL</td>\n",
       "      <td>116.519997</td>\n",
       "      <td>117.260002</td>\n",
       "      <td>116.489998</td>\n",
       "      <td>117.800003</td>\n",
       "      <td>18296900.0</td>\n",
       "    </tr>\n",
       "    <tr>\n",
       "      <th>2016-12-28</th>\n",
       "      <td>AAPL</td>\n",
       "      <td>117.519997</td>\n",
       "      <td>116.760002</td>\n",
       "      <td>116.199997</td>\n",
       "      <td>118.019997</td>\n",
       "      <td>20905900.0</td>\n",
       "    </tr>\n",
       "    <tr>\n",
       "      <th>2016-12-29</th>\n",
       "      <td>AAPL</td>\n",
       "      <td>116.449997</td>\n",
       "      <td>116.730003</td>\n",
       "      <td>116.400002</td>\n",
       "      <td>117.110001</td>\n",
       "      <td>15039500.0</td>\n",
       "    </tr>\n",
       "    <tr>\n",
       "      <th>2016-12-30</th>\n",
       "      <td>AAPL</td>\n",
       "      <td>116.650002</td>\n",
       "      <td>115.820000</td>\n",
       "      <td>115.430000</td>\n",
       "      <td>117.199997</td>\n",
       "      <td>30586300.0</td>\n",
       "    </tr>\n",
       "  </tbody>\n",
       "</table>\n",
       "<p>1762 rows × 6 columns</p>\n",
       "</div>"
      ],
      "text/plain": [
       "           symbol        open       close         low        high       volume\n",
       "date                                                                          \n",
       "2010-01-04   AAPL   30.490000   30.572857   30.340000   30.642857  123432400.0\n",
       "2010-01-05   AAPL   30.657143   30.625713   30.464285   30.798571  150476200.0\n",
       "2010-01-06   AAPL   30.625713   30.138571   30.107143   30.747143  138040000.0\n",
       "2010-01-07   AAPL   30.250000   30.082857   29.864286   30.285715  119282800.0\n",
       "2010-01-08   AAPL   30.042856   30.282858   29.865715   30.285715  111902700.0\n",
       "2010-01-11   AAPL   30.400000   30.015715   29.778572   30.428572  115557400.0\n",
       "2010-01-12   AAPL   29.884285   29.674286   29.488571   29.967142  148614900.0\n",
       "2010-01-13   AAPL   29.695715   30.092857   29.157143   30.132856  151473000.0\n",
       "2010-01-14   AAPL   30.015715   29.918571   29.860001   30.065714  108223500.0\n",
       "2010-01-15   AAPL   30.132856   29.418571   29.410000   30.228571  148516900.0\n",
       "2010-01-19   AAPL   29.761429   30.719999   29.605715   30.741428  182501900.0\n",
       "2010-01-20   AAPL   30.701429   30.247143   29.928572   30.792856  153038200.0\n",
       "2010-01-21   AAPL   30.297142   29.724285   29.601429   30.472857  152038600.0\n",
       "2010-01-22   AAPL   29.540001   28.250000   28.165714   29.642857  220441900.0\n",
       "2010-01-25   AAPL   28.930000   29.010000   28.598572   29.242857  266424900.0\n",
       "2010-01-26   AAPL   29.421429   29.420000   28.940001   30.530001  466777500.0\n",
       "2010-01-27   AAPL   29.549999   29.697144   28.504286   30.082857  430642100.0\n",
       "2010-01-28   AAPL   29.275715   28.469999   28.385714   29.357143  293375600.0\n",
       "2010-01-29   AAPL   28.725714   27.437143   27.178572   28.885714  311488100.0\n",
       "2010-02-01   AAPL   27.481428   27.818571   27.328571   28.000000  187469100.0\n",
       "2010-02-02   AAPL   27.987143   27.980000   27.625713   28.045713  174585600.0\n",
       "2010-02-03   AAPL   27.881428   28.461428   27.774286   28.600000  153832000.0\n",
       "2010-02-04   AAPL   28.104286   27.435715   27.367144   28.338572  189413000.0\n",
       "2010-02-05   AAPL   27.518572   27.922857   27.264286   28.000000  212576700.0\n",
       "2010-02-08   AAPL   27.955715   27.731428   27.714285   28.268572  119567700.0\n",
       "2010-02-09   AAPL   28.059999   28.027143   27.821428   28.214285  158221700.0\n",
       "2010-02-10   AAPL   27.984285   27.874287   27.751429   28.085714   92590400.0\n",
       "2010-02-11   AAPL   27.840000   28.381428   27.722857   28.535715  137586400.0\n",
       "2010-02-12   AAPL   28.301428   28.625713   27.928572   28.805714  163867200.0\n",
       "2010-02-16   AAPL   28.848572   29.057142   28.788572   29.098572  135934400.0\n",
       "...           ...         ...         ...         ...         ...          ...\n",
       "2016-11-17   AAPL  109.809998  109.949997  108.830002  110.349998   27632000.0\n",
       "2016-11-18   AAPL  109.720001  110.059998  109.660004  110.540001   28428900.0\n",
       "2016-11-21   AAPL  110.120003  111.730003  110.010002  111.989998   29264600.0\n",
       "2016-11-22   AAPL  111.949997  111.800003  111.400002  112.419998   25965500.0\n",
       "2016-11-23   AAPL  111.360001  111.230003  110.330002  111.510002   27426400.0\n",
       "2016-11-25   AAPL  111.129997  111.790001  110.949997  111.870003   11475900.0\n",
       "2016-11-28   AAPL  111.430000  111.570000  111.389999  112.470001   27194000.0\n",
       "2016-11-29   AAPL  110.779999  111.459999  110.070000  112.029999   28528800.0\n",
       "2016-11-30   AAPL  111.599998  110.519997  110.269997  112.199997   36162300.0\n",
       "2016-12-01   AAPL  110.370003  109.489998  109.029999  110.940002   37086900.0\n",
       "2016-12-02   AAPL  109.169998  109.900002  108.849998  110.089996   26528000.0\n",
       "2016-12-05   AAPL  110.000000  109.110001  108.250000  110.029999   34324500.0\n",
       "2016-12-06   AAPL  109.500000  109.949997  109.190002  110.360001   26195500.0\n",
       "2016-12-07   AAPL  109.260002  111.029999  109.160004  111.190002   29998700.0\n",
       "2016-12-08   AAPL  110.860001  112.120003  110.599998  112.430000   27068300.0\n",
       "2016-12-09   AAPL  112.309998  113.949997  112.309998  114.699997   34402600.0\n",
       "2016-12-12   AAPL  113.290001  113.300003  112.489998  115.000000   26374400.0\n",
       "2016-12-13   AAPL  113.839996  115.190002  113.750000  115.919998   43733800.0\n",
       "2016-12-14   AAPL  115.040001  115.190002  114.980003  116.199997   34031800.0\n",
       "2016-12-15   AAPL  115.379997  115.820000  115.230003  116.730003   46524500.0\n",
       "2016-12-16   AAPL  116.470001  115.970001  115.650002  116.500000   44351100.0\n",
       "2016-12-19   AAPL  115.800003  116.639999  115.750000  117.379997   27779400.0\n",
       "2016-12-20   AAPL  116.739998  116.949997  116.680000  117.500000   21425000.0\n",
       "2016-12-21   AAPL  116.800003  117.059998  116.779999  117.400002   23783200.0\n",
       "2016-12-22   AAPL  116.349998  116.290001  115.639999  116.510002   26085900.0\n",
       "2016-12-23   AAPL  115.589996  116.519997  115.589996  116.519997   14249500.0\n",
       "2016-12-27   AAPL  116.519997  117.260002  116.489998  117.800003   18296900.0\n",
       "2016-12-28   AAPL  117.519997  116.760002  116.199997  118.019997   20905900.0\n",
       "2016-12-29   AAPL  116.449997  116.730003  116.400002  117.110001   15039500.0\n",
       "2016-12-30   AAPL  116.650002  115.820000  115.430000  117.199997   30586300.0\n",
       "\n",
       "[1762 rows x 6 columns]"
      ]
     },
     "execution_count": 5,
     "metadata": {},
     "output_type": "execute_result"
    }
   ],
   "source": [
    "#setting the dataframe index to date column\n",
    "apple_stock['date'] = pd.to_datetime(apple_stock['date'],format='%Y-%m-%d')"
   ]
  },
  {
   "cell_type": "code",
   "execution_count": 7,
   "metadata": {
    "collapsed": false
   },
   "outputs": [],
   "source": [
    "apple_stock = apple_stock.set_index('date')"
   ]
  },
  {
   "cell_type": "markdown",
   "metadata": {},
   "source": [
    "# We'll be using only 'close' column for predictions so let's visualize it."
   ]
  },
  {
   "cell_type": "code",
   "execution_count": 11,
   "metadata": {
    "colab": {
     "base_uri": "https://localhost:8080/",
     "height": 265
    },
    "colab_type": "code",
    "collapsed": false,
    "id": "SEQvd2mkJHvc",
    "outputId": "80b4ad51-74e7-40d3-d377-2f0ba411387c"
   },
   "outputs": [
    {
     "data": {
      "image/png": "[encoded data removed]",
      "text/plain": [
       "<Figure size 432x288 with 1 Axes>"
      ]
     },
     "metadata": {},
     "output_type": "display_data"
    }
   ],
   "source": [
    "plt.plot(apple_stock['close'])\n",
    "plt.show()"
   ]
  },
  {
   "cell_type": "code",
   "execution_count": 13,
   "metadata": {
    "colab": {},
    "colab_type": "code",
    "collapsed": false,
    "id": "sDA2nET7JOJJ"
   },
   "outputs": [],
   "source": [
    "#filtering 'close' column from the dataset\n",
    "dataset = apple_stock.filter(['close'])"
   ]
  },
  {
   "cell_type": "code",
   "execution_count": 14,
   "metadata": {
    "colab": {},
    "colab_type": "code",
    "collapsed": true,
    "id": "o8V5iQa_KLoa"
   },
   "outputs": [],
   "source": [
    "#creating the train, test and validation set.\n",
    "train = dataset[:1400]\n",
    "validate = dataset[1400:1600]\n",
    "test = dataset[1600:]"
   ]
  },
  {
   "cell_type": "code",
   "execution_count": 15,
   "metadata": {
    "colab": {},
    "colab_type": "code",
    "collapsed": true,
    "id": "XvV9UkIeajXV"
   },
   "outputs": [],
   "source": [
    "train = train.values\n",
    "validate = validate.values\n",
    "test = test.values"
   ]
  },
  {
   "cell_type": "markdown",
   "metadata": {
    "colab_type": "text",
    "id": "4ZLtd97JauxF"
   },
   "source": [
    "**Scaling the data in the range 0 to 1 (both inclusive) to feed into the LSTM model.**\n",
    "\n"
   ]
  },
  {
   "cell_type": "code",
   "execution_count": 16,
   "metadata": {
    "colab": {},
    "colab_type": "code",
    "collapsed": true,
    "id": "i6IHOZ_Pa43x"
   },
   "outputs": [],
   "source": [
    "from sklearn.preprocessing import MinMaxScaler\n",
    "scaled = MinMaxScaler(feature_range=[0,1])"
   ]
  },
  {
   "cell_type": "code",
   "execution_count": 17,
   "metadata": {
    "colab": {},
    "colab_type": "code",
    "collapsed": true,
    "id": "hbyYuotxdz-8"
   },
   "outputs": [],
   "source": [
    "train = scaled.fit_transform(train)\n",
    "validate = scaled.fit_transform(validate)\n",
    "test = scaled.fit_transform(test)"
   ]
  },
  {
   "cell_type": "markdown",
   "metadata": {},
   "source": [
    "## Creating a data structure with 100 timesteps and 1 output"
   ]
  },
  {
   "cell_type": "code",
   "execution_count": 18,
   "metadata": {
    "colab": {},
    "colab_type": "code",
    "collapsed": true,
    "id": "9_mS8AgkeAkw"
   },
   "outputs": [],
   "source": [
    "x_train = []\n",
    "y_train = []\n",
    "\n",
    "for i in range(100,len(train)):\n",
    "  x_train.append(train[i-100:i,0])\n",
    "  y_train.append(train[i,0])"
   ]
  },
  {
   "cell_type": "code",
   "execution_count": 19,
   "metadata": {
    "colab": {},
    "colab_type": "code",
    "collapsed": true,
    "id": "0ha8_Z3qbvt7"
   },
   "outputs": [],
   "source": [
    "x_val = []\n",
    "y_val = []\n",
    "\n",
    "for i in range(100,len(validate)):\n",
    "  x_val.append(validate[i-100:i,0])\n",
    "  y_val.append(validate[i,0])"
   ]
  },
  {
   "cell_type": "code",
   "execution_count": 20,
   "metadata": {
    "colab": {},
    "colab_type": "code",
    "collapsed": true,
    "id": "9PNTK5C5eBt0"
   },
   "outputs": [],
   "source": [
    "x_test = []\n",
    "y_test = []\n",
    "\n",
    "for i in range(100,len(test)):\n",
    "  x_test.append(test[i-100:i,0])\n",
    "  y_test.append(test[i,0])"
   ]
  },
  {
   "cell_type": "code",
   "execution_count": 22,
   "metadata": {
    "colab": {},
    "colab_type": "code",
    "collapsed": true,
    "id": "19qse87Lehre"
   },
   "outputs": [],
   "source": [
    "#converting lists into numpy array\n",
    "x_train,y_train = np.array(x_train), np.array(y_train)\n",
    "x_val, y_val = np.array(x_val), np.array(y_val)\n",
    "x_test,y_test = np.array(x_test), np.array(y_test)"
   ]
  },
  {
   "cell_type": "code",
   "execution_count": 23,
   "metadata": {
    "colab": {},
    "colab_type": "code",
    "collapsed": false,
    "id": "YKhMERYGfXi3"
   },
   "outputs": [],
   "source": [
    "#reshaping the numpy arrays into 3d shape for feeding into lstm\n",
    "x_train = np.reshape(x_train,(x_train.shape[0],x_train.shape[1],1))\n",
    "x_val = np.reshape(x_val,(x_val.shape[0],x_val.shape[1],1))\n",
    "x_test = np.reshape(x_test,(x_test.shape[0],x_test.shape[1],1))"
   ]
  },
  {
   "cell_type": "code",
   "execution_count": 24,
   "metadata": {
    "colab": {
     "base_uri": "https://localhost:8080/",
     "height": 35
    },
    "colab_type": "code",
    "collapsed": false,
    "id": "aKHRg2Qsg28t",
    "outputId": "645420b6-cafc-4d30-e4a8-52f1f2533fdf"
   },
   "outputs": [
    {
     "data": {
      "text/plain": [
       "((1300, 100, 1), (100, 100, 1), (62, 100, 1))"
      ]
     },
     "execution_count": 24,
     "metadata": {},
     "output_type": "execute_result"
    }
   ],
   "source": [
    "x_train.shape,x_val.shape,x_test.shape"
   ]
  },
  {
   "cell_type": "markdown",
   "metadata": {},
   "source": [
    "## LSTM modelling"
   ]
  },
  {
   "cell_type": "code",
   "execution_count": 25,
   "metadata": {
    "colab": {
     "base_uri": "https://localhost:8080/",
     "height": 35
    },
    "colab_type": "code",
    "collapsed": true,
    "id": "CHAjF-dehBhQ",
    "outputId": "9bc99957-a5b1-471d-84b0-3c094118db48"
   },
   "outputs": [
    {
     "name": "stderr",
     "output_type": "stream",
     "text": [
      "/home/gunjan/anaconda3/lib/python3.5/site-packages/h5py/__init__.py:34: FutureWarning: Conversion of the second argument of issubdtype from `float` to `np.floating` is deprecated. In future, it will be treated as `np.float64 == np.dtype(float).type`.\n",
      "  from ._conv import register_converters as _register_converters\n",
      "Using TensorFlow backend.\n",
      "/home/gunjan/anaconda3/lib/python3.5/site-packages/tensorflow/python/framework/dtypes.py:523: FutureWarning: Passing (type, 1) or '1type' as a synonym of type is deprecated; in a future version of numpy, it will be understood as (type, (1,)) / '(1,)type'.\n",
      "  _np_qint8 = np.dtype([(\"qint8\", np.int8, 1)])\n",
      "/home/gunjan/anaconda3/lib/python3.5/site-packages/tensorflow/python/framework/dtypes.py:524: FutureWarning: Passing (type, 1) or '1type' as a synonym of type is deprecated; in a future version of numpy, it will be understood as (type, (1,)) / '(1,)type'.\n",
      "  _np_quint8 = np.dtype([(\"quint8\", np.uint8, 1)])\n",
      "/home/gunjan/anaconda3/lib/python3.5/site-packages/tensorflow/python/framework/dtypes.py:525: FutureWarning: Passing (type, 1) or '1type' as a synonym of type is deprecated; in a future version of numpy, it will be understood as (type, (1,)) / '(1,)type'.\n",
      "  _np_qint16 = np.dtype([(\"qint16\", np.int16, 1)])\n",
      "/home/gunjan/anaconda3/lib/python3.5/site-packages/tensorflow/python/framework/dtypes.py:526: FutureWarning: Passing (type, 1) or '1type' as a synonym of type is deprecated; in a future version of numpy, it will be understood as (type, (1,)) / '(1,)type'.\n",
      "  _np_quint16 = np.dtype([(\"quint16\", np.uint16, 1)])\n",
      "/home/gunjan/anaconda3/lib/python3.5/site-packages/tensorflow/python/framework/dtypes.py:527: FutureWarning: Passing (type, 1) or '1type' as a synonym of type is deprecated; in a future version of numpy, it will be understood as (type, (1,)) / '(1,)type'.\n",
      "  _np_qint32 = np.dtype([(\"qint32\", np.int32, 1)])\n",
      "/home/gunjan/anaconda3/lib/python3.5/site-packages/tensorflow/python/framework/dtypes.py:532: FutureWarning: Passing (type, 1) or '1type' as a synonym of type is deprecated; in a future version of numpy, it will be understood as (type, (1,)) / '(1,)type'.\n",
      "  np_resource = np.dtype([(\"resource\", np.ubyte, 1)])\n"
     ]
    }
   ],
   "source": [
    "from keras import Sequential\n",
    "from keras.layers import LSTM,Dense,Dropout\n",
    "\n",
    "model = Sequential()\n",
    "\n",
    "model.add(LSTM(units = 92, return_sequences = True, input_shape = (x_train.shape[1], 1)))\n",
    "model.add(Dropout(0.2))\n",
    "\n",
    "model.add(LSTM(units = 92, return_sequences = True))\n",
    "model.add(Dropout(0.2))\n",
    "\n",
    "model.add(LSTM(units = 92, return_sequences = True))\n",
    "model.add(Dropout(0.2))\n",
    "\n",
    "model.add(LSTM(units = 92, return_sequences = False))\n",
    "model.add(Dropout(0.2))\n",
    "\n",
    "model.add(Dense(units = 1))"
   ]
  },
  {
   "cell_type": "code",
   "execution_count": 26,
   "metadata": {
    "colab": {},
    "colab_type": "code",
    "collapsed": true,
    "id": "o9qDQv2-hePi"
   },
   "outputs": [],
   "source": [
    "#Compile the model\n",
    "model.compile(optimizer='adam', loss='mean_squared_error')"
   ]
  },
  {
   "cell_type": "code",
   "execution_count": 21,
   "metadata": {
    "colab": {
     "base_uri": "https://localhost:8080/",
     "height": 413
    },
    "colab_type": "code",
    "collapsed": true,
    "id": "nE_o5XdJhjOV",
    "outputId": "b0b06453-d014-4740-e364-08e84972446e"
   },
   "outputs": [
    {
     "name": "stdout",
     "output_type": "stream",
     "text": [
      "Train on 1300 samples, validate on 100 samples\n",
      "Epoch 1/10\n",
      "1300/1300 [==============================] - 31s 24ms/step - loss: 0.0268 - val_loss: 0.0625\n",
      "Epoch 2/10\n",
      "1300/1300 [==============================] - 21s 16ms/step - loss: 0.0028 - val_loss: 0.0528\n",
      "Epoch 3/10\n",
      "1300/1300 [==============================] - 19s 15ms/step - loss: 0.0028 - val_loss: 0.0518\n",
      "Epoch 4/10\n",
      "1300/1300 [==============================] - 21s 16ms/step - loss: 0.0028 - val_loss: 0.0503\n",
      "Epoch 5/10\n",
      "1300/1300 [==============================] - 21s 16ms/step - loss: 0.0029 - val_loss: 0.0543\n",
      "Epoch 6/10\n",
      "1300/1300 [==============================] - 20s 15ms/step - loss: 0.0028 - val_loss: 0.0440\n",
      "Epoch 7/10\n",
      "1300/1300 [==============================] - 20s 15ms/step - loss: 0.0023 - val_loss: 0.0481\n",
      "Epoch 8/10\n",
      "1300/1300 [==============================] - 20s 15ms/step - loss: 0.0026 - val_loss: 0.0498\n",
      "Epoch 9/10\n",
      "1300/1300 [==============================] - 20s 15ms/step - loss: 0.0027 - val_loss: 0.0376\n",
      "Epoch 10/10\n",
      "1300/1300 [==============================] - 22s 17ms/step - loss: 0.0024 - val_loss: 0.0400\n"
     ]
    },
    {
     "data": {
      "text/plain": [
       "<keras.callbacks.History at 0x7fe9f8a8da20>"
      ]
     },
     "execution_count": 21,
     "metadata": {},
     "output_type": "execute_result"
    }
   ],
   "source": [
    "#model.fit(x_train,y_train,validation_data=(x_val,y_val),epochs=10)"
   ]
  },
  {
   "cell_type": "markdown",
   "metadata": {},
   "source": [
    "## Loading the pre-trained model"
   ]
  },
  {
   "cell_type": "code",
   "execution_count": 31,
   "metadata": {
    "collapsed": false
   },
   "outputs": [],
   "source": [
    "#model.save('stonks.h5')\n",
    "\n",
    "import keras\n",
    "model = keras.models.load_model('stonks.h5')"
   ]
  },
  {
   "cell_type": "markdown",
   "metadata": {},
   "source": [
    "### Predicting the stocks closed prices from x_test and visualiazing and validating with y_test"
   ]
  },
  {
   "cell_type": "code",
   "execution_count": 56,
   "metadata": {
    "colab": {},
    "colab_type": "code",
    "collapsed": true,
    "id": "lY7LHIVUh-Bh"
   },
   "outputs": [],
   "source": [
    "predictions = model.predict(x_test)\n",
    "#predictions = scaled.inverse_transform(predictions)"
   ]
  },
  {
   "cell_type": "code",
   "execution_count": 57,
   "metadata": {
    "colab": {
     "base_uri": "https://localhost:8080/",
     "height": 376
    },
    "colab_type": "code",
    "collapsed": false,
    "id": "7bqpHmnJjvbg",
    "outputId": "cff6aaf0-2ab2-4d85-e841-8321509bc14c"
   },
   "outputs": [
    {
     "data": {
      "image/png": "[encoded data removed]",
      "text/plain": [
       "<Figure size 432x288 with 1 Axes>"
      ]
     },
     "metadata": {},
     "output_type": "display_data"
    }
   ],
   "source": [
    "# Visualising the results\n",
    "plt.plot(y_test, color = 'red', label = 'Real Apple Stock Price')\n",
    "plt.plot(predictions, color = 'blue', label = 'Predicted Apple Stock Price')\n",
    "plt.title('Apple Stock Price Prediction')\n",
    "plt.legend()\n",
    "plt.show()"
   ]
  },
  {
   "cell_type": "markdown",
   "metadata": {},
   "source": [
    "## The predictions are not much accurate but the model has nicely captured the trends. "
   ]
  },
  {
   "cell_type": "markdown",
   "metadata": {
    "colab": {},
    "colab_type": "code",
    "id": "oT7akrtokPMQ"
   },
   "source": [
    "### Predicting next day stock price(closed) using the last historical data of 100 stock prices(closed)"
   ]
  },
  {
   "cell_type": "code",
   "execution_count": 59,
   "metadata": {
    "collapsed": false
   },
   "outputs": [],
   "source": [
    "last_100 = x_test[61]\n",
    "last_100 = np.reshape(last_100,(1,100,1))"
   ]
  },
  {
   "cell_type": "code",
   "execution_count": 63,
   "metadata": {
    "collapsed": false
   },
   "outputs": [],
   "source": [
    "next_day_predicted_closed_price = model.predict(last_100)"
   ]
  },
  {
   "cell_type": "code",
   "execution_count": 69,
   "metadata": {
    "collapsed": false
   },
   "outputs": [
    {
     "data": {
      "text/plain": [
       "array([[115.63217]], dtype=float32)"
      ]
     },
     "execution_count": 69,
     "metadata": {},
     "output_type": "execute_result"
    }
   ],
   "source": [
    "scaled.inverse_transform(next_day_predicted_closed_price)"
   ]
  },
  {
   "cell_type": "code",
   "execution_count": 77,
   "metadata": {
    "collapsed": false
   },
   "outputs": [
    {
     "data": {
      "text/plain": [
       "array([[115.82]])"
      ]
     },
     "execution_count": 77,
     "metadata": {},
     "output_type": "execute_result"
    }
   ],
   "source": [
    "#last day closing price from data\n",
    "scaled.inverse_transform([y_test[-1:]])"
   ]
  },
  {
   "cell_type": "markdown",
   "metadata": {},
   "source": [
    "### Therefore the estimated future closed price for the next day will be 115.63 approx.  which is slightly less than the previous day closing price."
   ]
  },
  {
   "cell_type": "code",
   "execution_count": null,
   "metadata": {
    "collapsed": true
   },
   "outputs": [],
   "source": []
  }
 ],
 "metadata": {
  "accelerator": "GPU",
  "anaconda-cloud": {},
  "colab": {
   "collapsed_sections": [],
   "name": "Stonks",
   "provenance": []
  },
  "kernelspec": {
   "display_name": "Python [default]",
   "language": "python",
   "name": "python3"
  },
  "language_info": {
   "codemirror_mode": {
    "name": "ipython",
    "version": 3
   },
   "file_extension": ".py",
   "mimetype": "text/x-python",
   "name": "python",
   "nbconvert_exporter": "python",
   "pygments_lexer": "ipython3",
   "version": "3.5.2"
  }
 },
 "nbformat": 4,
 "nbformat_minor": 0
}
